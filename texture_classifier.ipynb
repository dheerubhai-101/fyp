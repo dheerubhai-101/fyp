{
 "cells": [
  {
   "cell_type": "code",
   "execution_count": 1,
   "metadata": {},
   "outputs": [],
   "source": [
    "import numpy as np\n",
    "from sklearn.linear_model import LogisticRegression\n",
    "from PIL import Image\n",
    "import re\n",
    "import os\n",
    "import cv2\n",
    "from skimage.feature import graycomatrix, graycoprops\n",
    "import pandas as pd"
   ]
  },
  {
   "cell_type": "code",
   "execution_count": 9,
   "metadata": {},
   "outputs": [],
   "source": [
    "import pandas as pd\n",
    "\n",
    "def dataloader(path):\n",
    "    # image_files = os.listdir(image_dir)\n",
    "    # image_paths = [os.path.join(image_dir, filename) for filename in image_files]\n",
    "\n",
    "    data = {}\n",
    "    for filename in os.listdir(path):\n",
    "        if re.search(r'dusty', filename):\n",
    "            file_path = os.path.join(path, filename)\n",
    "            data[file_path] = 1\n",
    "        else:\n",
    "            file_path = os.path.join(path, filename)    \n",
    "            data[file_path] = 0\n",
    "\n",
    "    return data"
   ]
  },
  {
   "cell_type": "code",
   "execution_count": 18,
   "metadata": {},
   "outputs": [],
   "source": [
    "path = \"D:\\FYP\\dataset\"\n",
    "dataset = dataloader(path)\n",
    "\n",
    "# print(X[0])\n",
    "# print(dataset)\n",
    "Tr = []\n",
    "for path,label in dataset.items():\n",
    "    img = cv2.imread(path)\n",
    "    img_hsv = cv2.cvtColor(img, cv2.COLOR_BGR2HSV)\n",
    "    hue = img_hsv[:,:,0]\n",
    "\n",
    "    glcm = graycomatrix(hue,distances=[1],angles=[0,np.pi/2])\n",
    "    contrast = graycoprops(glcm, prop='contrast')\n",
    "    homogeneity = graycoprops(glcm, prop='homogeneity')\n",
    "\n",
    "    X_feature = np.array([contrast[0,0], contrast[0,1], homogeneity[0,0], homogeneity[0,1], label])\n",
    "    Tr.append(X_feature)\n",
    "\n"
   ]
  },
  {
   "cell_type": "code",
   "execution_count": 76,
   "metadata": {},
   "outputs": [],
   "source": [
    "Tr = np.array(Tr)\n",
    "\n",
    "# np.savetxt('Features.csv', Tr, delimiter=',', fmt='%f')\n",
    "\n",
    "df = pd.DataFrame(Tr)\n",
    "\n",
    "excel_file_path = 'Features.xlsx'\n",
    "\n",
    "# Save the DataFrame as an Excel file\n",
    "df.to_excel(excel_file_path, index=False)"
   ]
  },
  {
   "cell_type": "code",
   "execution_count": 7,
   "metadata": {},
   "outputs": [
    {
     "name": "stdout",
     "output_type": "stream",
     "text": [
      "[[ 46.039658  38.489357   0.919913   0.940825   1.      ]\n",
      " [106.815994 111.650081   0.863068   0.846262   1.      ]\n",
      " [ 26.247983  25.291152   0.851602   0.890788   0.      ]\n",
      " ...\n",
      " [110.942977  81.048909   0.891908   0.920918   1.      ]\n",
      " [ 25.850534  15.626874   0.834089   0.928595   1.      ]\n",
      " [ 39.161923  21.202847   0.765549   0.8562     0.      ]]\n"
     ]
    }
   ],
   "source": [
    "np.random.shuffle(Tr)\n",
    "print(Tr)"
   ]
  },
  {
   "cell_type": "code",
   "execution_count": 8,
   "metadata": {},
   "outputs": [
    {
     "name": "stdout",
     "output_type": "stream",
     "text": [
      "(783, 4)\n"
     ]
    }
   ],
   "source": [
    "X = Tr[:,:4]\n",
    "y = Tr[:,-1]\n",
    "print(X.shape)"
   ]
  },
  {
   "cell_type": "code",
   "execution_count": 9,
   "metadata": {},
   "outputs": [],
   "source": [
    "def feature_vector(image):\n",
    "    img_hsv = cv2.cvtColor(image, cv2.COLOR_BGR2HSV)\n",
    "    hue = img_hsv[:,:,0]\n",
    "    # cv2.imshow(\"window_name\", hue)\n",
    "    # cv2.waitKey(0)\n",
    "    # cv2.destroyAllWindows()\n",
    "    glcm = graycomatrix(hue,distances=[1],angles=[0,np.pi/2])\n",
    "    contrast = graycoprops(glcm, prop='contrast')\n",
    "    homogeneity = graycoprops(glcm, prop='homogeneity')\n",
    "\n",
    "    X_feature = np.array([contrast[0,0], contrast[0,1], homogeneity[0,0], homogeneity[0,1]])\n",
    "\n",
    "    return X_feature"
   ]
  },
  {
   "cell_type": "code",
   "execution_count": 23,
   "metadata": {},
   "outputs": [
    {
     "name": "stdout",
     "output_type": "stream",
     "text": [
      "Epoch 1/50\n",
      "55/55 [==============================] - 1s 1ms/step - loss: 1.0382 - accuracy: 0.4544\n",
      "Epoch 2/50\n",
      "55/55 [==============================] - 0s 1ms/step - loss: 0.6532 - accuracy: 0.5858\n",
      "Epoch 3/50\n",
      "55/55 [==============================] - 0s 1ms/step - loss: 0.6329 - accuracy: 0.6077\n",
      "Epoch 4/50\n",
      "55/55 [==============================] - 0s 1ms/step - loss: 0.6310 - accuracy: 0.6369\n",
      "Epoch 5/50\n",
      "55/55 [==============================] - 0s 1ms/step - loss: 0.6328 - accuracy: 0.6131\n",
      "Epoch 6/50\n",
      "55/55 [==============================] - 0s 1ms/step - loss: 0.6377 - accuracy: 0.6442\n",
      "Epoch 7/50\n",
      "55/55 [==============================] - 0s 1ms/step - loss: 0.6270 - accuracy: 0.6277\n",
      "Epoch 8/50\n",
      "55/55 [==============================] - 0s 1ms/step - loss: 0.6234 - accuracy: 0.6606\n",
      "Epoch 9/50\n",
      "55/55 [==============================] - 0s 1ms/step - loss: 0.6113 - accuracy: 0.6588\n",
      "Epoch 10/50\n",
      "55/55 [==============================] - 0s 1ms/step - loss: 0.6217 - accuracy: 0.6332\n",
      "Epoch 11/50\n",
      "55/55 [==============================] - 0s 1ms/step - loss: 0.6118 - accuracy: 0.6752\n",
      "Epoch 12/50\n",
      "55/55 [==============================] - 0s 1ms/step - loss: 0.6126 - accuracy: 0.6752\n",
      "Epoch 13/50\n",
      "55/55 [==============================] - 0s 1ms/step - loss: 0.6105 - accuracy: 0.7099\n",
      "Epoch 14/50\n",
      "55/55 [==============================] - 0s 1ms/step - loss: 0.6082 - accuracy: 0.6715\n",
      "Epoch 15/50\n",
      "55/55 [==============================] - 0s 1ms/step - loss: 0.6091 - accuracy: 0.6880\n",
      "Epoch 16/50\n",
      "55/55 [==============================] - 0s 1ms/step - loss: 0.6017 - accuracy: 0.6588\n",
      "Epoch 17/50\n",
      "55/55 [==============================] - 0s 1ms/step - loss: 0.6005 - accuracy: 0.6807\n",
      "Epoch 18/50\n",
      "55/55 [==============================] - 0s 1ms/step - loss: 0.6009 - accuracy: 0.7080\n",
      "Epoch 19/50\n",
      "55/55 [==============================] - 0s 1ms/step - loss: 0.5926 - accuracy: 0.7026\n",
      "Epoch 20/50\n",
      "55/55 [==============================] - 0s 1ms/step - loss: 0.5989 - accuracy: 0.6971\n",
      "Epoch 21/50\n",
      "55/55 [==============================] - 0s 1ms/step - loss: 0.5979 - accuracy: 0.6971\n",
      "Epoch 22/50\n",
      "55/55 [==============================] - 0s 1ms/step - loss: 0.5908 - accuracy: 0.7099\n",
      "Epoch 23/50\n",
      "55/55 [==============================] - 0s 1ms/step - loss: 0.5843 - accuracy: 0.7172\n",
      "Epoch 24/50\n",
      "55/55 [==============================] - 0s 1ms/step - loss: 0.5875 - accuracy: 0.7153\n",
      "Epoch 25/50\n",
      "55/55 [==============================] - 0s 1ms/step - loss: 0.5765 - accuracy: 0.7080\n",
      "Epoch 26/50\n",
      "55/55 [==============================] - 0s 1ms/step - loss: 0.5893 - accuracy: 0.6843\n",
      "Epoch 27/50\n",
      "55/55 [==============================] - 0s 1ms/step - loss: 0.5965 - accuracy: 0.7007\n",
      "Epoch 28/50\n",
      "55/55 [==============================] - 0s 1ms/step - loss: 0.5836 - accuracy: 0.6916\n",
      "Epoch 29/50\n",
      "55/55 [==============================] - 0s 1ms/step - loss: 0.5730 - accuracy: 0.7190\n",
      "Epoch 30/50\n",
      "55/55 [==============================] - 0s 1ms/step - loss: 0.5809 - accuracy: 0.6953\n",
      "Epoch 31/50\n",
      "55/55 [==============================] - 0s 1ms/step - loss: 0.5697 - accuracy: 0.7318\n",
      "Epoch 32/50\n",
      "55/55 [==============================] - 0s 1ms/step - loss: 0.5618 - accuracy: 0.7391\n",
      "Epoch 33/50\n",
      "55/55 [==============================] - 0s 1ms/step - loss: 0.5626 - accuracy: 0.7117\n",
      "Epoch 34/50\n",
      "55/55 [==============================] - 0s 1ms/step - loss: 0.5645 - accuracy: 0.7044\n",
      "Epoch 35/50\n",
      "55/55 [==============================] - 0s 1ms/step - loss: 0.5561 - accuracy: 0.7153\n",
      "Epoch 36/50\n",
      "55/55 [==============================] - 0s 1ms/step - loss: 0.5606 - accuracy: 0.7044\n",
      "Epoch 37/50\n",
      "55/55 [==============================] - 0s 1ms/step - loss: 0.5539 - accuracy: 0.7281\n",
      "Epoch 38/50\n",
      "55/55 [==============================] - 0s 1ms/step - loss: 0.5512 - accuracy: 0.7372\n",
      "Epoch 39/50\n",
      "55/55 [==============================] - 0s 1ms/step - loss: 0.5530 - accuracy: 0.7281\n",
      "Epoch 40/50\n",
      "55/55 [==============================] - 0s 1ms/step - loss: 0.5588 - accuracy: 0.7208\n",
      "Epoch 41/50\n",
      "55/55 [==============================] - 0s 1ms/step - loss: 0.5438 - accuracy: 0.7062\n",
      "Epoch 42/50\n",
      "55/55 [==============================] - 0s 1ms/step - loss: 0.5412 - accuracy: 0.7245\n",
      "Epoch 43/50\n",
      "55/55 [==============================] - 0s 1ms/step - loss: 0.5457 - accuracy: 0.7391\n",
      "Epoch 44/50\n",
      "55/55 [==============================] - 0s 1ms/step - loss: 0.5472 - accuracy: 0.7391\n",
      "Epoch 45/50\n",
      "55/55 [==============================] - 0s 1ms/step - loss: 0.5324 - accuracy: 0.7409\n",
      "Epoch 46/50\n",
      "55/55 [==============================] - 0s 1ms/step - loss: 0.5493 - accuracy: 0.7208\n",
      "Epoch 47/50\n",
      "55/55 [==============================] - 0s 1ms/step - loss: 0.5449 - accuracy: 0.7409\n",
      "Epoch 48/50\n",
      "55/55 [==============================] - 0s 2ms/step - loss: 0.5307 - accuracy: 0.7445\n",
      "Epoch 49/50\n",
      "55/55 [==============================] - 0s 2ms/step - loss: 0.5356 - accuracy: 0.7336\n",
      "Epoch 50/50\n",
      "55/55 [==============================] - 0s 2ms/step - loss: 0.5322 - accuracy: 0.7336\n",
      "8/8 [==============================] - 0s 959us/step\n",
      "Accuracy: 0.7914893617021277\n"
     ]
    }
   ],
   "source": [
    "import tensorflow as tf\n",
    "from tensorflow import keras\n",
    "from sklearn.model_selection import train_test_split\n",
    "from sklearn.metrics import accuracy_score\n",
    "\n",
    "\n",
    "\n",
    "# Split the data into training and testing sets\n",
    "X_train, X_test, y_train, y_test = train_test_split(X, y, test_size=0.3)\n",
    "\n",
    "# Build a neural network model\n",
    "model = keras.Sequential([\n",
    "    keras.layers.Dense(10, input_dim=4, activation='relu'),  # Input layer with 4 features\n",
    "    keras.layers.Dense(20, activation='relu'),  # First hidden layer\n",
    "    keras.layers.Dense(20, activation='relu'),  # Second hidden layer\n",
    "    keras.layers.Dense(1, activation='sigmoid')  # Output layer with sigmoid activation for binary classification\n",
    "])\n",
    "\n",
    "# Compile the model\n",
    "model.compile(optimizer='adam', loss='binary_crossentropy', metrics=['accuracy'])\n",
    "\n",
    "# Train the model\n",
    "model.fit(X_train, y_train, epochs=50, batch_size=10, verbose=1)\n",
    "\n",
    "# Make predictions\n",
    "y_pred = (model.predict(X_test) > 0.5).astype(int)\n",
    "\n",
    "# Calculate accuracy\n",
    "accuracy = accuracy_score(y_test, y_pred)\n",
    "print(\"Accuracy:\", accuracy)"
   ]
  },
  {
   "cell_type": "code",
   "execution_count": 29,
   "metadata": {},
   "outputs": [
    {
     "name": "stdout",
     "output_type": "stream",
     "text": [
      "1/1 [==============================] - 0s 16ms/step\n",
      "[[0.6267848]]\n"
     ]
    }
   ],
   "source": [
    "image = cv2.imread(\"D:\\FYP\\dataset\\dusty361.jpg\")\n",
    "\n",
    "x = feature_vector(image)\n",
    "x = x.reshape(1, -1)\n",
    "\n",
    "predictions = model.predict(x)\n",
    "\n",
    "print(predictions)\n"
   ]
  }
 ],
 "metadata": {
  "kernelspec": {
   "display_name": "base",
   "language": "python",
   "name": "python3"
  },
  "language_info": {
   "codemirror_mode": {
    "name": "ipython",
    "version": 3
   },
   "file_extension": ".py",
   "mimetype": "text/x-python",
   "name": "python",
   "nbconvert_exporter": "python",
   "pygments_lexer": "ipython3",
   "version": "3.10.9"
  }
 },
 "nbformat": 4,
 "nbformat_minor": 2
}
